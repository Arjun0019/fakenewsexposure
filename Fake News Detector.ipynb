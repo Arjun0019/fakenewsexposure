{
 "cells": [
  {
   "cell_type": "code",
   "execution_count": 1,
   "metadata": {},
   "outputs": [],
   "source": [
    "import numpy as np\n",
    "import pandas as pd\n",
    "import itertools\n",
    "import newspaper\n",
    "from newspaper import Article\n",
    "from sklearn.model_selection import train_test_split\n",
    "from sklearn.feature_extraction.text import TfidfVectorizer\n",
    "from sklearn.linear_model import PassiveAggressiveClassifier\n",
    "from sklearn.metrics import accuracy_score, confusion_matrix"
   ]
  },
  {
   "cell_type": "code",
   "execution_count": 2,
   "metadata": {},
   "outputs": [
    {
     "data": {
      "text/html": [
       "<div>\n",
       "<style scoped>\n",
       "    .dataframe tbody tr th:only-of-type {\n",
       "        vertical-align: middle;\n",
       "    }\n",
       "\n",
       "    .dataframe tbody tr th {\n",
       "        vertical-align: top;\n",
       "    }\n",
       "\n",
       "    .dataframe thead th {\n",
       "        text-align: right;\n",
       "    }\n",
       "</style>\n",
       "<table border=\"1\" class=\"dataframe\">\n",
       "  <thead>\n",
       "    <tr style=\"text-align: right;\">\n",
       "      <th></th>\n",
       "      <th>Unnamed: 0</th>\n",
       "      <th>title</th>\n",
       "      <th>text</th>\n",
       "      <th>label</th>\n",
       "    </tr>\n",
       "  </thead>\n",
       "  <tbody>\n",
       "    <tr>\n",
       "      <th>0</th>\n",
       "      <td>8476</td>\n",
       "      <td>You Can Smell Hillary’s Fear</td>\n",
       "      <td>Daniel Greenfield, a Shillman Journalism Fello...</td>\n",
       "      <td>FAKE</td>\n",
       "    </tr>\n",
       "    <tr>\n",
       "      <th>1</th>\n",
       "      <td>10294</td>\n",
       "      <td>Watch The Exact Moment Paul Ryan Committed Pol...</td>\n",
       "      <td>Google Pinterest Digg Linkedin Reddit Stumbleu...</td>\n",
       "      <td>FAKE</td>\n",
       "    </tr>\n",
       "    <tr>\n",
       "      <th>2</th>\n",
       "      <td>3608</td>\n",
       "      <td>Kerry to go to Paris in gesture of sympathy</td>\n",
       "      <td>U.S. Secretary of State John F. Kerry said Mon...</td>\n",
       "      <td>REAL</td>\n",
       "    </tr>\n",
       "    <tr>\n",
       "      <th>3</th>\n",
       "      <td>10142</td>\n",
       "      <td>Bernie supporters on Twitter erupt in anger ag...</td>\n",
       "      <td>— Kaydee King (@KaydeeKing) November 9, 2016 T...</td>\n",
       "      <td>FAKE</td>\n",
       "    </tr>\n",
       "    <tr>\n",
       "      <th>4</th>\n",
       "      <td>875</td>\n",
       "      <td>The Battle of New York: Why This Primary Matters</td>\n",
       "      <td>It's primary day in New York and front-runners...</td>\n",
       "      <td>REAL</td>\n",
       "    </tr>\n",
       "  </tbody>\n",
       "</table>\n",
       "</div>"
      ],
      "text/plain": [
       "   Unnamed: 0                                              title  \\\n",
       "0        8476                       You Can Smell Hillary’s Fear   \n",
       "1       10294  Watch The Exact Moment Paul Ryan Committed Pol...   \n",
       "2        3608        Kerry to go to Paris in gesture of sympathy   \n",
       "3       10142  Bernie supporters on Twitter erupt in anger ag...   \n",
       "4         875   The Battle of New York: Why This Primary Matters   \n",
       "\n",
       "                                                text label  \n",
       "0  Daniel Greenfield, a Shillman Journalism Fello...  FAKE  \n",
       "1  Google Pinterest Digg Linkedin Reddit Stumbleu...  FAKE  \n",
       "2  U.S. Secretary of State John F. Kerry said Mon...  REAL  \n",
       "3  — Kaydee King (@KaydeeKing) November 9, 2016 T...  FAKE  \n",
       "4  It's primary day in New York and front-runners...  REAL  "
      ]
     },
     "execution_count": 2,
     "metadata": {},
     "output_type": "execute_result"
    }
   ],
   "source": [
    "df=pd.read_csv('C:\\\\Users\\\\Arjun\\\\Desktop\\\\news.csv')\n",
    "\n",
    "df.shape\n",
    "df.head()"
   ]
  },
  {
   "cell_type": "code",
   "execution_count": 3,
   "metadata": {},
   "outputs": [
    {
     "data": {
      "text/plain": [
       "0    FAKE\n",
       "1    FAKE\n",
       "2    REAL\n",
       "3    FAKE\n",
       "4    REAL\n",
       "Name: label, dtype: object"
      ]
     },
     "execution_count": 3,
     "metadata": {},
     "output_type": "execute_result"
    }
   ],
   "source": [
    "labels=df.label\n",
    "labels.head()"
   ]
  },
  {
   "cell_type": "code",
   "execution_count": 4,
   "metadata": {},
   "outputs": [],
   "source": [
    "x_train,x_test,y_train,y_test=train_test_split(df['text'], labels, test_size=0.2, random_state=7)"
   ]
  },
  {
   "cell_type": "code",
   "execution_count": 5,
   "metadata": {},
   "outputs": [],
   "source": [
    "tfidf_vectorizer=TfidfVectorizer(stop_words='english', max_df=0.7)\n",
    "\n",
    "tfidf_train=tfidf_vectorizer.fit_transform(x_train) \n",
    "tfidf_test=tfidf_vectorizer.transform(x_test)"
   ]
  },
  {
   "cell_type": "code",
   "execution_count": 6,
   "metadata": {},
   "outputs": [
    {
     "name": "stdout",
     "output_type": "stream",
     "text": [
      "Accuracy: 92.74%\n"
     ]
    }
   ],
   "source": [
    "pac=PassiveAggressiveClassifier(max_iter=50)\n",
    "pac.fit(tfidf_train,y_train)\n",
    "\n",
    "y_pred=pac.predict(tfidf_test)\n",
    "score=accuracy_score(y_test,y_pred)\n",
    "print(f'Accuracy: {round(score*100,2)}%')"
   ]
  },
  {
   "cell_type": "code",
   "execution_count": 7,
   "metadata": {},
   "outputs": [
    {
     "data": {
      "text/plain": [
       "array([[588,  50],\n",
       "       [ 42, 587]], dtype=int64)"
      ]
     },
     "execution_count": 7,
     "metadata": {},
     "output_type": "execute_result"
    }
   ],
   "source": [
    "confusion_matrix(y_test,y_pred, labels=['FAKE','REAL'])"
   ]
  },
  {
   "cell_type": "code",
   "execution_count": 10,
   "metadata": {},
   "outputs": [
    {
     "name": "stdout",
     "output_type": "stream",
     "text": [
      "https://edition.cnn.com/2020/10/12/health/coronavirus-human-challenge-trials-gbr-intl/index.html\n",
      "London (CNN) As most of us obsess with avoiding Covid-19 at all costs, a rapidly growing group of people around the world say they are prepared to deliberately take on the virus.\n",
      "\n",
      "Tens of thousands of people have signed up to a campaign by a group called 1 Day Sooner to take an experimental vaccine candidate and then face coronavirus in a controlled setting.\n",
      "\n",
      "Among them is Estefania Hidalgo, 32, a photography student in Bristol, England, who works at a gas station to pay the bills.\n",
      "\n",
      "\"I do night shifts there, and it can be very lonely,\" she recalled on a sunny day near her home. Passing those long lockdown hours with just podcasts to keep her company, she describes discovering the challenge trial movement -- and hearing volunteers' motivations -- as a revelatory moment.\n",
      "\n",
      "\"I was shaken,\" she said. \"No one should be left behind. Old people, poor people, people of color. Everyone just deserves to be healthy.\"\n",
      "\n",
      "\"This was a way for me to take back control of the situation, to feel like I was in a less hopeless place, and a less hopeless world, and be like, OK, I can do this. To make it better, I chose not to be in fear.\"\n",
      "\n",
      "So-called human challenge trials, while sometimes controversial, are nothing new. They have been used for cholera, typhoid, malaria, and even the common cold. But unlike for those diseases, we do not yet have a completely effective treatment for Covid-19, should the experimental vaccine fail.\n",
      "\n",
      "Volunteers in challenge trials are typically compensated for their time and participation, experts say, but organizers must be careful not to pay an amount that could edge on coercive.\n",
      "\n",
      "Critics also say that challenge trials have limited use because the young, healthy people who take part don't represent the broader population.\n",
      "\n",
      "As of last month, however, the UK government said that it is in active conversations to collaborate on such a trial, which would be the first in the world for coronavirus.\n",
      "\n",
      "Already, several big vaccine developers -- among them AstraZeneca, Sanofi and BioNTech -- have said that they have no interest in participating. Eleven vaccine candidates are in Phase 3 trials, in which tens of thousands of people are given a vaccine candidate, released to live their everyday lives, and then monitored to see whether they contract Covid-19.\n",
      "\n",
      "Volunteer Ilya Dubrovin, 36, gets a shot in Russia's human trials of its Sputnik V coronavirus vaccine at a clinic in Moscow in September.\n",
      "\n",
      "\"It's not clear that necessarily the first vaccines to be evaluated are going to be the best vaccines,\" said Peter Smith of the London School of Hygiene & Tropical Medicine. \"I think there's a very strong case for exploring challenge trials to evaluate vaccines for a large number of potential Covid vaccines in development.\"\n",
      "\n",
      "So advanced are challenge trial discussions that the UK's Health Research Authority (HRA), which must approve any research involving human subjects, has a panel on standby to evaluate the medical ethics behind any potential proposals.\n",
      "\n",
      "\"There's very little research that carries zero risk,\" said Terence Stephenson, who heads the HRA. \"Every day in this country and every country, health care professionals voluntarily put themselves at risk to care for other people.\n",
      "\n",
      "\"People who, in their judgment, might be willing to do that for the benefit of wider society -- I don't personally find that surprising.\"\n",
      "\n",
      "Alastair Fraser-Urquhart, aged just 18, would readily agree that his decision to volunteer was unremarkable.\n",
      "\n",
      "Alastair Fraser-Urquhart, 18, has deferred starting university for a year to volunteer for the challenge trial.\n",
      "\n",
      "\"It was just such an instant, common sense idea,\" he said. \"The risk to me is tiny. But by taking that small risk on myself, I can potentially protect thousands of other people from having to be infected without consenting to it.\"\n",
      "\n",
      "Fraser-Urquhart was so drawn to the idea, back in June, that he joined 1 Day Sooner and is now leading a campaign for the British government to facilitate the first coronavirus challenge trial. He deferred starting university for a year in order to work on the project.\n",
      "\n",
      "If all goes to plan, and he passes a screening, he hopes to check into a bio containment facility, take a vaccine candidate, and stay in a room for many weeks.\n",
      "\n",
      "Under normal Phase 3 trials, there is always a placebo group -- some people who don't receive a vaccine -- to have a baseline for infection. But there is a big difference between chancing infection in everyday life and being deliberately exposed, albeit in a medical setting.\n",
      "\n",
      "There is some disagreement about whether a coronavirus trial would need a placebo group. Stephenson suggested it would not, but Smith is not so sure.\n",
      "\n",
      "\"The problem,\" Smith said, \"is essentially that if you give a group of volunteers a vaccine, and then you challenge them, and none of them develop disease, is that because the vaccine was protective, or because there was something wrong with the way in which you challenged them such that they didn't get infected? And you can't answer that question definitively unless you have a control group.\"\n",
      "\n",
      "It's no surprise that Fraser-Urquhart's enthusiastic participation gave his father a moment's pause.\n",
      "\n",
      "\"Obviously not top of the list of things you'd want from your son,\" said Andrew Fraser-Urquhart, 52. \"The first thing I thought was, well at least I now know what he's been doing in his room for the last three weeks on his computer,\" he said, with a chuckle.\n",
      "\n",
      "Andrew Fraser-Urquhart (right) says that human challenge trials are \"something slightly different,\" and so it's no surprise that his son was interested.\n",
      "\n",
      "They talked through what it would involve, and despite a \"lump in the throat\" he realized that there was no stopping Alastair, who talks about the intricacies of challenge trial science in a way that belies his teenage years.\n",
      "\n",
      "\"It's at the forefront of science and technology,\" Andrew said. \"It's something to benefit others. It's something rather brave. It's something slightly different. And that's him in a nutshell. So when you put it in those terms, no, it's surprise at all.\"\n",
      "\n",
      "He is, to put it simply, undoubtedly proud of his son.\n",
      "\n",
      "The risk, of course, is small, but not zero. Less than 1% of the deaths from Covid-19 in the United States have been among those 34 or younger. But the long-term health consequences of contracting the virus are still very much not understood.\n",
      "\n",
      "To Alastair, that's all the more reason to run a challenge trial, accelerate an end to the pandemic, and help more people in the general public avoid facing those long-term consequences.\n",
      "\n",
      "\"If ever it's the time to push the boundaries and discover how quickly we can do stuff, and how well we can do stuff, and to take on risks for other people, it's now.\"\n"
     ]
    }
   ],
   "source": [
    "article = Article(input())\n",
    "article.download()\n",
    "article.parse()\n",
    "print(article.text)"
   ]
  },
  {
   "cell_type": "code",
   "execution_count": 11,
   "metadata": {},
   "outputs": [
    {
     "name": "stdout",
     "output_type": "stream",
     "text": [
      "London (CNN) As most of us obsess with avoiding Covid-19 at all costs, a rapidly growing group of people around the world say they are prepared to deliberately take on the virus.  Tens of thousands of people have signed up to a campaign by a group called 1 Day Sooner to take an experimental vaccine candidate and then face coronavirus in a controlled setting.  Among them is Estefania Hidalgo, 32, a photography student in Bristol, England, who works at a gas station to pay the bills.  \"I do night shifts there, and it can be very lonely,\" she recalled on a sunny day near her home. Passing those long lockdown hours with just podcasts to keep her company, she describes discovering the challenge trial movement -- and hearing volunteers' motivations -- as a revelatory moment.  \"I was shaken,\" she said. \"No one should be left behind. Old people, poor people, people of color. Everyone just deserves to be healthy.\"  \"This was a way for me to take back control of the situation, to feel like I was in a less hopeless place, and a less hopeless world, and be like, OK, I can do this. To make it better, I chose not to be in fear.\"  So-called human challenge trials, while sometimes controversial, are nothing new. They have been used for cholera, typhoid, malaria, and even the common cold. But unlike for those diseases, we do not yet have a completely effective treatment for Covid-19, should the experimental vaccine fail.  Volunteers in challenge trials are typically compensated for their time and participation, experts say, but organizers must be careful not to pay an amount that could edge on coercive.  Critics also say that challenge trials have limited use because the young, healthy people who take part don't represent the broader population.  As of last month, however, the UK government said that it is in active conversations to collaborate on such a trial, which would be the first in the world for coronavirus.  Already, several big vaccine developers -- among them AstraZeneca, Sanofi and BioNTech -- have said that they have no interest in participating. Eleven vaccine candidates are in Phase 3 trials, in which tens of thousands of people are given a vaccine candidate, released to live their everyday lives, and then monitored to see whether they contract Covid-19.  Volunteer Ilya Dubrovin, 36, gets a shot in Russia's human trials of its Sputnik V coronavirus vaccine at a clinic in Moscow in September.  \"It's not clear that necessarily the first vaccines to be evaluated are going to be the best vaccines,\" said Peter Smith of the London School of Hygiene & Tropical Medicine. \"I think there's a very strong case for exploring challenge trials to evaluate vaccines for a large number of potential Covid vaccines in development.\"  So advanced are challenge trial discussions that the UK's Health Research Authority (HRA), which must approve any research involving human subjects, has a panel on standby to evaluate the medical ethics behind any potential proposals.  \"There's very little research that carries zero risk,\" said Terence Stephenson, who heads the HRA. \"Every day in this country and every country, health care professionals voluntarily put themselves at risk to care for other people.  \"People who, in their judgment, might be willing to do that for the benefit of wider society -- I don't personally find that surprising.\"  Alastair Fraser-Urquhart, aged just 18, would readily agree that his decision to volunteer was unremarkable.  Alastair Fraser-Urquhart, 18, has deferred starting university for a year to volunteer for the challenge trial.  \"It was just such an instant, common sense idea,\" he said. \"The risk to me is tiny. But by taking that small risk on myself, I can potentially protect thousands of other people from having to be infected without consenting to it.\"  Fraser-Urquhart was so drawn to the idea, back in June, that he joined 1 Day Sooner and is now leading a campaign for the British government to facilitate the first coronavirus challenge trial. He deferred starting university for a year in order to work on the project.  If all goes to plan, and he passes a screening, he hopes to check into a bio containment facility, take a vaccine candidate, and stay in a room for many weeks.  Under normal Phase 3 trials, there is always a placebo group -- some people who don't receive a vaccine -- to have a baseline for infection. But there is a big difference between chancing infection in everyday life and being deliberately exposed, albeit in a medical setting.  There is some disagreement about whether a coronavirus trial would need a placebo group. Stephenson suggested it would not, but Smith is not so sure.  \"The problem,\" Smith said, \"is essentially that if you give a group of volunteers a vaccine, and then you challenge them, and none of them develop disease, is that because the vaccine was protective, or because there was something wrong with the way in which you challenged them such that they didn't get infected? And you can't answer that question definitively unless you have a control group.\"  It's no surprise that Fraser-Urquhart's enthusiastic participation gave his father a moment's pause.  \"Obviously not top of the list of things you'd want from your son,\" said Andrew Fraser-Urquhart, 52. \"The first thing I thought was, well at least I now know what he's been doing in his room for the last three weeks on his computer,\" he said, with a chuckle.  Andrew Fraser-Urquhart (right) says that human challenge trials are \"something slightly different,\" and so it's no surprise that his son was interested.  They talked through what it would involve, and despite a \"lump in the throat\" he realized that there was no stopping Alastair, who talks about the intricacies of challenge trial science in a way that belies his teenage years.  \"It's at the forefront of science and technology,\" Andrew said. \"It's something to benefit others. It's something rather brave. It's something slightly different. And that's him in a nutshell. So when you put it in those terms, no, it's surprise at all.\"  He is, to put it simply, undoubtedly proud of his son.  The risk, of course, is small, but not zero. Less than 1% of the deaths from Covid-19 in the United States have been among those 34 or younger. But the long-term health consequences of contracting the virus are still very much not understood.  To Alastair, that's all the more reason to run a challenge trial, accelerate an end to the pandemic, and help more people in the general public avoid facing those long-term consequences.  \"If ever it's the time to push the boundaries and discover how quickly we can do stuff, and how well we can do stuff, and to take on risks for other people, it's now.\"\n",
      "['REAL']\n"
     ]
    }
   ],
   "source": [
    "input_data = [input()]\n",
    "vectorized_input_data = tfidf_vectorizer.transform(input_data)\n",
    "prediction = pac.predict(vectorized_input_data)\n",
    "print(prediction)"
   ]
  }
 ],
 "metadata": {
  "kernelspec": {
   "display_name": "Python 3",
   "language": "python",
   "name": "python3"
  },
  "language_info": {
   "codemirror_mode": {
    "name": "ipython",
    "version": 3
   },
   "file_extension": ".py",
   "mimetype": "text/x-python",
   "name": "python",
   "nbconvert_exporter": "python",
   "pygments_lexer": "ipython3",
   "version": "3.6.10"
  }
 },
 "nbformat": 4,
 "nbformat_minor": 4
}
